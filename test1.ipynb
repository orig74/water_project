{
 "cells": [
  {
   "cell_type": "code",
   "execution_count": null,
   "metadata": {
    "collapsed": false
   },
   "outputs": [],
   "source": [
    "%pylab notebook\n",
    "import numpy as np\n",
    "import pandas as pd"
   ]
  },
  {
   "cell_type": "code",
   "execution_count": null,
   "metadata": {
    "collapsed": false
   },
   "outputs": [],
   "source": [
    "!ls data"
   ]
  },
  {
   "cell_type": "code",
   "execution_count": null,
   "metadata": {
    "collapsed": true
   },
   "outputs": [],
   "source": [
    "ytuna=pd.read_excel('data/YTuna_clean_graphs.xlsm',na_values='.')\n",
    "waituku=pd.read_csv('data/Waituku.txt',delimiter='\\t')"
   ]
  },
  {
   "cell_type": "code",
   "execution_count": null,
   "metadata": {
    "collapsed": false
   },
   "outputs": [],
   "source": [
    "print(ytuna['Flow 1'].dtype)\n",
    "ytuna.columns"
   ]
  },
  {
   "cell_type": "code",
   "execution_count": null,
   "metadata": {
    "collapsed": false
   },
   "outputs": [],
   "source": [
    "#figure()\n",
    "data=np.array(ytuna['TN/Cl'],dtype('float'))\n",
    "np.nanstd(data)\n",
    "data=data[~np.isnan(data)]\n",
    "data.mean()\n",
    "#data=data[~np.isnan(data)]\n",
    "#hist(data,bins=50)"
   ]
  },
  {
   "cell_type": "code",
   "execution_count": null,
   "metadata": {
    "collapsed": false
   },
   "outputs": [],
   "source": [
    "figure()\n",
    "from scipy.stats.mstats import zscore\n",
    "intersting_cols=ytuna.columns[6:]\n",
    "intersting_cols_next=[]\n",
    "intersting_next=[]\n",
    "def nanzscore(data):\n",
    "    if np.nanstd(data) <1e-8:\n",
    "        return None\n",
    "    return (data-np.nanmean(data))/np.nanstd(data)\n",
    "\n",
    "for ind,col in enumerate(intersting_cols):\n",
    "    subplot(10,10,ind+1)\n",
    "    #title(str(ind))\n",
    "    data=np.array(ytuna[col])\n",
    "    try:\n",
    "        data=nanzscore(data)\n",
    "        if data is None:\n",
    "            print('skeeping..',ind,col)\n",
    "            continue\n",
    "        #data=zscore(data)\n",
    "        hist(data[~np.isnan(data)])\n",
    "        intersting_next.append(data)\n",
    "        intersting_cols_next.append(col)\n",
    "    except:\n",
    "        print(ind,col)\n"
   ]
  },
  {
   "cell_type": "code",
   "execution_count": null,
   "metadata": {
    "collapsed": false,
    "scrolled": false
   },
   "outputs": [],
   "source": [
    "dim=len(intersting_next)\n",
    "im=np.zeros((dim,dim))\n",
    "for i in range(dim):\n",
    "    for j in range(dim):\n",
    "        if i==j:\n",
    "            continue\n",
    "        d1=intersting_next[i]\n",
    "        d2=intersting_next[j]\n",
    "        notnans=~(np.isnan(d1) | np.isnan(d2))\n",
    "        if np.count_nonzero(notnans)<20:\n",
    "            continue\n",
    "        d1n=d1[notnans]\n",
    "        d2n=d2[notnans]\n",
    "        #im[i,j]=np.cov(d1[notnans],d2[notnans])/(np.nanstd(d1)*np.nanstd(d2)))[0,1]\n",
    "        if d1n.std()<1e-5 or d2n.std()<1e-5:\n",
    "            continue\n",
    "        im[i,j]=np.abs(np.corrcoef(d1n,d2n)[1,0])\n",
    "        \n",
    "figure()\n",
    "imshow(im)"
   ]
  },
  {
   "cell_type": "code",
   "execution_count": null,
   "metadata": {
    "collapsed": false
   },
   "outputs": [],
   "source": [
    "def get_pair(i,j):\n",
    "    d1=intersting_next[i]\n",
    "    d2=intersting_next[j]\n",
    "    notnans=~(np.isnan(d1) | np.isnan(d2))\n",
    "    return d1[notnans],d2[notnans],intersting_cols_next[i],intersting_cols_next[j]\n",
    "\n",
    "i=15;j=6\n",
    "x,y,xl,yl=get_pair(i,j)\n",
    "figure()\n",
    "plot(x,y,'+',alpha=0.7)\n",
    "xlabel(xl)\n",
    "ylabel(yl)\n",
    "title('pearson coef {:.2f}'.format(im[i,j]))\n",
    "\n"
   ]
  },
  {
   "cell_type": "code",
   "execution_count": null,
   "metadata": {
    "collapsed": false
   },
   "outputs": [],
   "source": [
    "#ytuna['Carbonate']\n",
    "import rpy2.robjects as ro"
   ]
  },
  {
   "cell_type": "code",
   "execution_count": null,
   "metadata": {
    "collapsed": false
   },
   "outputs": [],
   "source": [
    "#http://igraph.org/r/\n",
    "ro.r('library(igraph)')\n",
    "\n",
    " "
   ]
  },
  {
   "cell_type": "code",
   "execution_count": null,
   "metadata": {
    "collapsed": false
   },
   "outputs": [],
   "source": [
    "flatten = lambda l: [item for sublist in l for item in sublist]\n",
    "tresh=0.8\n",
    "edges=flatten([(intersting_cols_next[i]+'('+str(i)+')',\n",
    "                intersting_cols_next[j]+'('+str(j)+')') for i in range(len(im)) for j in range(i) if im[i,j]>tresh])\n",
    "weight=[im[i,j] for i in range(len(im)) for j in range(i) if im[i,j]>tresh]\n",
    "#edges=list(map(str,edges))\n",
    "#print(str(weight))\n",
    "s='''\n",
    "edges <- c({0})\n",
    "g<-graph(edges, n=max(edges), directed=FALSE)\n",
    "E(g)$weight <- c({1})\n",
    "E(g)[ weight <= 0.9 ]$color <- \"green\"\n",
    "E(g)[ weight > 0.9 ]$color <- \"red\"\n",
    "E(g)[ weight <= 0.8 ]$width <- 3\n",
    "E(g)[ weight > 0.8 ]$width <- 5\n",
    "E(g)[ weight > 0.9 ]$width <- 7\n",
    "E(g)$asp <- 1\n",
    "#png('rplot.png', width = 2000, height = 2000)\n",
    "jpeg('rplot.jpg', width = 2000, height = 2000)\n",
    "#plot(g, layout = layout.fruchterman.reingold,vertex.label=V(g)$number)\n",
    "plot(g, layout = layout.fruchterman.reingold, vertex.size=8, sub='hh')\n",
    "#tkplot(g, canvas.width = 800, canvas.height =600)\n",
    "dev.off()\n",
    "'''.format(str(edges)[1:-1],str(weight)[1:-1])\n",
    "G=ro.r(s)\n",
    "figure()\n",
    "imshow(imread('rplot.jpg'))"
   ]
  },
  {
   "cell_type": "code",
   "execution_count": null,
   "metadata": {
    "collapsed": false
   },
   "outputs": [],
   "source": [
    "del(G)"
   ]
  },
  {
   "cell_type": "code",
   "execution_count": null,
   "metadata": {
    "collapsed": false
   },
   "outputs": [],
   "source": [
    "#geo\n",
    "figure()\n",
    "plot(ytuna['Easting']/1000,ytuna['Northing']/1000,'*',alpha=0.3)\n",
    "axis('equal')"
   ]
  },
  {
   "cell_type": "code",
   "execution_count": null,
   "metadata": {
    "collapsed": false
   },
   "outputs": [],
   "source": [
    "\n",
    "import plotly.plotly as py\n",
    "mapbox_access_token = 'pk.eyJ1Ijoib3JpZzc0IiwiYSI6ImNqMXBzZGl4NjAwNW0zMm92bzJteXM5dTQifQ.TFP8iP0l1YDjX5BaLHWwkQ'\n",
    "py.sign_in('orig74','SKJLoURDiuVeBwOO7RWY')\n",
    "from plotly.graph_objs import *\n",
    "#py.sign_in('username', 'api_key')\n",
    "#\n",
    "geos=[utm.to_latlon(e, n, 57,'G',strict=False) for e,n in zip(ytuna['Easting'],ytuna['Northing'])]\n",
    "#not working utm look an next cell\n",
    "\n",
    "data = Data([\n",
    "    Scattermapbox(\n",
    "        lat=[lat],\n",
    "        lon=[lon],\n",
    "        mode='markers',\n",
    "        marker=Marker(\n",
    "            size=14\n",
    "        ),\n",
    "        text=['Dun'],\n",
    "    )\n",
    "for lat,lon in geos])\n",
    "\n",
    "layout = Layout(\n",
    "    autosize=True,\n",
    "    hovermode='closest',\n",
    "    mapbox=dict(\n",
    "        accesstoken=mapbox_access_token,\n",
    "        style='mapbox://styles/mapbox/satellite-streets-v9',\n",
    "        bearing=0,\n",
    "        center=dict(\n",
    "            lat=-45,\n",
    "            lon=170\n",
    "        ),\n",
    "        pitch=0,\n",
    "        zoom=5\n",
    "    ),\n",
    ")\n",
    "\n",
    "fig = dict(data=data, layout=layout)\n",
    "py.iplot(fig, filename='New Zealand Mapbox')"
   ]
  },
  {
   "cell_type": "code",
   "execution_count": null,
   "metadata": {
    "collapsed": false
   },
   "outputs": [],
   "source": [
    "#for e,n in np.vstack((ytuna['Easting'],ytuna['Northing'])).T:\n",
    "#    print(e,n)"
   ]
  },
  {
   "cell_type": "code",
   "execution_count": null,
   "metadata": {
    "collapsed": false
   },
   "outputs": [],
   "source": [
    "##output from\n",
    "##http://apps.linz.govt.nz/coordinate-conversion/index.aspx?Test=\n",
    "#options from utm zone 59 to geo84\n",
    "#Easting\tNorthing\t       \tLongitude\tLatitude\n",
    "geos='''1267164.000\t4840209.000\t       \t-155.06202697\t-46.15767353\n",
    "       \t1268105.000\t4839101.000\t       \t-155.04823445\t-46.16644055\n",
    "       \t1268105.000\t4839101.000\t       \t-155.04823445\t-46.16644055\n",
    "       \t1268105.000\t4839101.000\t       \t-155.04823445\t-46.16644055\n",
    "       \t1268105.000\t4839101.000\t       \t-155.04823445\t-46.16644055\n",
    "       \t1267026.000\t4837117.000\t       \t-155.05879986\t-46.18523809\n",
    "       \t1267026.000\t4837117.000\t       \t-155.05879986\t-46.18523809\n",
    "'''\n",
    "geos=[list(map(float,l.split('\\t')[-2:]))[::-1] for l in geos.split('\\n') if l.strip()]"
   ]
  },
  {
   "cell_type": "code",
   "execution_count": null,
   "metadata": {
    "collapsed": true
   },
   "outputs": [],
   "source": []
  }
 ],
 "metadata": {
  "kernelspec": {
   "display_name": "Python 3",
   "language": "python",
   "name": "python3"
  },
  "language_info": {
   "codemirror_mode": {
    "name": "ipython",
    "version": 3
   },
   "file_extension": ".py",
   "mimetype": "text/x-python",
   "name": "python",
   "nbconvert_exporter": "python",
   "pygments_lexer": "ipython3",
   "version": "3.6.0"
  }
 },
 "nbformat": 4,
 "nbformat_minor": 2
}
